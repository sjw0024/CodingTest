{
 "cells": [
  {
   "cell_type": "code",
   "execution_count": 7,
   "metadata": {},
   "outputs": [
    {
     "name": "stdout",
     "output_type": "stream",
     "text": [
      "2\n",
      "2\n",
      "4\n",
      "2\n"
     ]
    },
    {
     "data": {
      "text/plain": [
       "[3, 5]"
      ]
     },
     "execution_count": 7,
     "metadata": {},
     "output_type": "execute_result"
    }
   ],
   "source": [
    "def solution(lottos, win_nums):\n",
    "    rank = {6: 1, 5: 2, 4: 3, 3: 4, 2: 5, 1: 6, 0: 6}\n",
    "    numOfZero = lottos.count(0)\n",
    "    numOfMatch = 0\n",
    "    \n",
    "    for lotto in lottos:\n",
    "        if lotto in win_nums:\n",
    "            numOfMatch += 1 \n",
    "    \n",
    "    maxMatch = numOfMatch + numOfZero\n",
    "    minMatch = numOfMatch\n",
    " \n",
    "    result = [rank[maxMatch], rank[minMatch]]\n",
    "    return result\n",
    "\n",
    "solution(lottos=[44, 1, 0, 0, 31, 25], win_nums=[31, 10, 45, 1, 6, 19])"
   ]
  }
 ],
 "metadata": {
  "kernelspec": {
   "display_name": "Python 3",
   "language": "python",
   "name": "python3"
  },
  "language_info": {
   "codemirror_mode": {
    "name": "ipython",
    "version": 3
   },
   "file_extension": ".py",
   "mimetype": "text/x-python",
   "name": "python",
   "nbconvert_exporter": "python",
   "pygments_lexer": "ipython3",
   "version": "3.9.6"
  }
 },
 "nbformat": 4,
 "nbformat_minor": 2
}
