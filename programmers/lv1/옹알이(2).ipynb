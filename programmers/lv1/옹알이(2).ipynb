{
 "cells": [
  {
   "cell_type": "markdown",
   "metadata": {},
   "source": [
    "# 옹알이(2)\n",
    "\n",
    "머쓱이는 태어난 지 11개월 된 조카를 돌보고 있습니다. 조카는 아직 \"aya\", \"ye\", \"woo\", \"ma\" 네 가지 발음과 네 가지 발음을 조합해서 만들 수 있는 발음밖에 하지 못하고 연속해서 같은 발음을 하는 것을 어려워합니다. 문자열 배열 babbling이 매개변수로 주어질 때, 머쓱이의 조카가 발음할 수 있는 단어의 개수를 return하도록 solution 함수를 완성해주세요.\n",
    "\n",
    "제한사항\n",
    "- 1 ≤ babbling의 길이 ≤ 100\n",
    "- 1 ≤ babbling[i]의 길이 ≤ 30\n",
    "- 문자열은 알파벳 소문자로만 이루어져 있습니다.\n",
    "\n",
    "입출력 예\n",
    "babbling\t                                    result\n",
    "[\"aya\", \"yee\", \"u\", \"maa\"]\t                    1\n",
    "[\"ayaye\", \"uuu\", \"yeye\", \"yemawoo\", \"ayaayaa\"]\t2\n",
    "\n",
    "입출력 예 설명\n",
    "\n",
    "입출력 예 #1\n",
    "[\"aya\", \"yee\", \"u\", \"maa\"]에서 발음할 수 있는 것은 \"aya\"뿐입니다. 따라서 1을 return합니다.\n",
    "\n",
    "입출력 예 #2\n",
    "[\"ayaye\", \"uuuma\", \"yeye\", \"yemawoo\", \"ayaayaa\"]에서 발음할 수 있는 것은 \"aya\" + \"ye\" = \"ayaye\", \"ye\" + \"ma\" + \"woo\" = \"yemawoo\"로 2개입니다. \"yeye\"는 같은 발음이 연속되므로 발음할 수 없습니다. 따라서 2를 return합니다.\n",
    "\n",
    "유의사항\n",
    "네 가지를 붙여 만들 수 있는 발음 이외에는 어떤 발음도 할 수 없는 것으로 규정합니다. 예를 들어 \"woowo\"는 \"woo\"는 발음할 수 있지만 \"wo\"를 발음할 수 없기 때문에 할 수 없는 발음입니다."
   ]
  },
  {
   "cell_type": "code",
   "execution_count": 1,
   "metadata": {},
   "outputs": [
    {
     "data": {
      "text/plain": [
       "3"
      ]
     },
     "execution_count": 1,
     "metadata": {},
     "output_type": "execute_result"
    }
   ],
   "source": [
    "def solution(babbling):\n",
    "    strList = [\"aya\", \"ye\", \"woo\", \"ma\"]\n",
    "    cnt = 0\n",
    "    answer = 0\n",
    "    li = []\n",
    "    \n",
    "    for s in strList:\n",
    "        cnt += 1\n",
    "        for i in range(len(babbling)):\n",
    "            if s in babbling[i]:\n",
    "                babbling[i] = babbling[i].replace(s, str(cnt))\n",
    "    \n",
    "    for x in babbling:\n",
    "        if x.isdecimal():\n",
    "            li.append(x)\n",
    "    \n",
    "    for y in li:\n",
    "        flag = True\n",
    "        for i in range(len(y)):\n",
    "            if flag:\n",
    "                for j in range(i+1, len(y)):\n",
    "                    if y[i] == y[j]:\n",
    "                        flag = False\n",
    "                        break\n",
    "                    else:\n",
    "                        flag = True\n",
    "                        break\n",
    "            else:\n",
    "                break\n",
    "            \n",
    "        if flag:\n",
    "            answer += 1\n",
    "    \n",
    "    return answer\n",
    "        \n",
    "solution(babbling=[\"yeyema\", \"ayaye\", \"uuu\", \"yeye\", \"yemawoo\", \"ayaayaa\", \"yemaye\"])"
   ]
  }
 ],
 "metadata": {
  "kernelspec": {
   "display_name": "Python 3",
   "language": "python",
   "name": "python3"
  },
  "language_info": {
   "codemirror_mode": {
    "name": "ipython",
    "version": 3
   },
   "file_extension": ".py",
   "mimetype": "text/x-python",
   "name": "python",
   "nbconvert_exporter": "python",
   "pygments_lexer": "ipython3",
   "version": "3.9.6"
  }
 },
 "nbformat": 4,
 "nbformat_minor": 2
}
