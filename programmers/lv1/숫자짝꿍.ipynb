{
 "cells": [
  {
   "cell_type": "code",
   "execution_count": 36,
   "metadata": {},
   "outputs": [
    {
     "data": {
      "text/plain": [
       "'0'"
      ]
     },
     "execution_count": 36,
     "metadata": {},
     "output_type": "execute_result"
    }
   ],
   "source": [
    "def solution(X, Y):\n",
    "    Z = set(X) & set(Y)\n",
    "    li = []\n",
    "    d = {}\n",
    "    \n",
    "    if not Z:\n",
    "        return \"-1\"\n",
    "    if len(Z) == 1 and Z == {\"0\"}:\n",
    "        return \"0\"\n",
    "    \n",
    "    for z in Z:\n",
    "        d[z] = min(X.count(z), Y.count(z))\n",
    "    \n",
    "    for a in d:\n",
    "        li.append(a * d[a])\n",
    "        \n",
    "    answer = ''.join(sorted(li, reverse=True))\n",
    "    \n",
    "    return answer    \n",
    "\n",
    "solution(X=\"100\", Y=\"203045\")"
   ]
  }
 ],
 "metadata": {
  "kernelspec": {
   "display_name": "Python 3",
   "language": "python",
   "name": "python3"
  },
  "language_info": {
   "codemirror_mode": {
    "name": "ipython",
    "version": 3
   },
   "file_extension": ".py",
   "mimetype": "text/x-python",
   "name": "python",
   "nbconvert_exporter": "python",
   "pygments_lexer": "ipython3",
   "version": "3.9.6"
  }
 },
 "nbformat": 4,
 "nbformat_minor": 2
}
